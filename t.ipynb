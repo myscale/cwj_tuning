{
 "cells": [
  {
   "cell_type": "code",
   "execution_count": 1,
   "metadata": {},
   "outputs": [],
   "source": [
    "import json"
   ]
  },
  {
   "cell_type": "code",
   "execution_count": 14,
   "metadata": {},
   "outputs": [
    {
     "data": {
      "text/plain": [
       "464459"
      ]
     },
     "execution_count": 14,
     "metadata": {},
     "output_type": "execute_result"
    }
   ],
   "source": [
    "file_list = ['drcd_data.json', 'dureader_data.json', 'webqa_data.json', 'squad_data.json']\n",
    "n = 0\n",
    "for file in file_list:\n",
    "    with open(file, 'r+', encoding='utf-8') as f:\n",
    "        data = json.load(f)\n",
    "        data = data['data']\n",
    "        for _ in data:\n",
    "            t = _['paragraphs']\n",
    "            for x in t:\n",
    "                n += len(x['qas'])\n",
    "n"
   ]
  }
 ],
 "metadata": {
  "kernelspec": {
   "display_name": "llama",
   "language": "python",
   "name": "python3"
  },
  "language_info": {
   "codemirror_mode": {
    "name": "ipython",
    "version": 3
   },
   "file_extension": ".py",
   "mimetype": "text/x-python",
   "name": "python",
   "nbconvert_exporter": "python",
   "pygments_lexer": "ipython3",
   "version": "3.6.9"
  },
  "orig_nbformat": 4
 },
 "nbformat": 4,
 "nbformat_minor": 2
}
